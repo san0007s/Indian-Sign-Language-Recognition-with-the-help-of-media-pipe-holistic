{
 "cells": [
  {
   "cell_type": "code",
   "execution_count": null,
   "id": "a825a59d",
   "metadata": {},
   "outputs": [],
   "source": [
    "!pip install mediapipe opencv-python pandas scikit-learn"
   ]
  },
  {
   "cell_type": "code",
   "execution_count": null,
   "id": "62dc5c40",
   "metadata": {},
   "outputs": [],
   "source": [
    "import pandas as pd\n",
    "import numpy as np\n",
    "import matplotlib.pyplot as plt\n",
    "from sklearn.model_selection import train_test_split\n",
    "from sklearn.preprocessing import StandardScaler\n",
    "from sklearn.pipeline import make_pipeline\n",
    "from sklearn.linear_model import LogisticRegression,RidgeClassifier \n",
    "from sklearn.ensemble import RandomForestClassifier, GradientBoostingClassifier"
   ]
  },
  {
   "cell_type": "code",
   "execution_count": null,
   "id": "0fc9e08e",
   "metadata": {},
   "outputs": [],
   "source": [
    "import mediapipe as mp\n",
    "import cv2"
   ]
  },
  {
   "cell_type": "code",
   "execution_count": null,
   "id": "13e964e9",
   "metadata": {},
   "outputs": [],
   "source": [
    "mp_drawing = mp.solutions.drawing_utils\n",
    "mp_holistic = mp.solutions.holistic"
   ]
  },
  {
   "cell_type": "code",
   "execution_count": null,
   "id": "95427746",
   "metadata": {},
   "outputs": [],
   "source": [
    "cap = cv2.VideoCapture(0)\n",
    "# Initiate holistic model\n",
    "with mp_holistic.Holistic(min_detection_confidence=0.5, min_tracking_confidence=0.5) as holistic:\n",
    "    \n",
    "    while cap.isOpened():\n",
    "        ret, frame = cap.read()\n",
    "        \n",
    "        # Recolor Feed\n",
    "        image = cv2.cvtColor(frame, cv2.COLOR_BGR2RGB)\n",
    "        image.flags.writeable = False\n",
    "        \n",
    "        \n",
    "        # Make Detections\n",
    "        results = holistic.process(image)\n",
    "        \n",
    "        \n",
    "       \n",
    "        \n",
    "        # face_landmarks, pose_landmarks, left_hand_landmarks, right_hand_landmarks\n",
    "        \n",
    "        # Recolor image back to BGR for rendering\n",
    "        image.flags.writeable = True \n",
    "        image = cv2.cvtColor(image, cv2.COLOR_RGB2BGR)\n",
    "        \n",
    "        # 1. Draw face landmarks\n",
    "        mp_drawing.draw_landmarks(image, results.face_landmarks,mp_holistic.FACEMESH_TESSELATION , \n",
    "                                 mp_drawing.DrawingSpec(color=(80,110,10), thickness=1, circle_radius=1),\n",
    "                                 mp_drawing.DrawingSpec(color=(80,256,121), thickness=1, circle_radius=1)\n",
    "                                 )\n",
    "        \n",
    "        # 2. Right hand\n",
    "        mp_drawing.draw_landmarks(image, results.right_hand_landmarks, mp_holistic.HAND_CONNECTIONS, \n",
    "                                 mp_drawing.DrawingSpec(color=(80,22,10), thickness=2, circle_radius=4),\n",
    "                                 mp_drawing.DrawingSpec(color=(80,44,121), thickness=2, circle_radius=2)\n",
    "                                 )\n",
    "\n",
    "        # 3. Left Hand\n",
    "        mp_drawing.draw_landmarks(image, results.left_hand_landmarks, mp_holistic.HAND_CONNECTIONS, \n",
    "                                 mp_drawing.DrawingSpec(color=(121,22,76), thickness=2, circle_radius=4),\n",
    "                                 mp_drawing.DrawingSpec(color=(121,44,250), thickness=2, circle_radius=2)\n",
    "                                 )\n",
    "\n",
    "        # 4. Pose Detections\n",
    "        mp_drawing.draw_landmarks(image, results.pose_landmarks, mp_holistic.POSE_CONNECTIONS, \n",
    "                                 mp_drawing.DrawingSpec(color=(245,117,66), thickness=2, circle_radius=4),\n",
    "                                 mp_drawing.DrawingSpec(color=(245,66,230), thickness=2, circle_radius=2)\n",
    "                                 )\n",
    "    \n",
    "                        \n",
    "        cv2.imshow('Raw Webcam Feed', image)\n",
    "\n",
    "        if cv2.waitKey(10) & 0xFF == ord('q'):\n",
    "            break\n",
    "\n",
    "cap.release()\n",
    "cv2.destroyAllWindows()"
   ]
  },
  {
   "cell_type": "code",
   "execution_count": null,
   "id": "497dc2ca",
   "metadata": {},
   "outputs": [],
   "source": [
    "right_hand_landmarks_count = 0\n",
    "for landmark in results.right_hand_landmarks.landmark:\n",
    "        right_hand_landmarks_count += 1\n",
    "right_hand_landmarks_count"
   ]
  },
  {
   "cell_type": "code",
   "execution_count": null,
   "id": "fcee13c9",
   "metadata": {},
   "outputs": [],
   "source": [
    "left_hand_landmarks_count = 0\n",
    "for landmark in results.left_hand_landmarks.landmark:\n",
    "        left_hand_landmarks_count += 1\n",
    "left_hand_landmarks_count"
   ]
  },
  {
   "cell_type": "markdown",
   "id": "0a861b22",
   "metadata": {},
   "source": [
    "# creating file for inputs or for storing coordinate"
   ]
  },
  {
   "cell_type": "code",
   "execution_count": null,
   "id": "b5706996",
   "metadata": {},
   "outputs": [],
   "source": [
    "import csv \n",
    "import os"
   ]
  },
  {
   "cell_type": "code",
   "execution_count": null,
   "id": "ec44c7b2",
   "metadata": {},
   "outputs": [],
   "source": [
    "i=len(results.face_landmarks.landmark)\n",
    "j=len(results.pose_landmarks.landmark)\n",
    "k = right_hand_landmarks_count\n",
    "l= left_hand_landmarks_count\n",
    "num_coords = len(results.face_landmarks.landmark)+len(results.pose_landmarks.landmark)+right_hand_landmarks_count+left_hand_landmarks_count\n",
    "print(i,j,k,l)\n",
    "print(num_coords)"
   ]
  },
  {
   "cell_type": "code",
   "execution_count": null,
   "id": "531d9330",
   "metadata": {},
   "outputs": [],
   "source": [
    "landmarks = ['class']\n",
    "for val in range(1,num_coords + 1):\n",
    "    landmarks += ['x{}'.format(val),'y{}'.format(val),'z{}'.format(val),'v{}'.format(val)]"
   ]
  },
  {
   "cell_type": "code",
   "execution_count": null,
   "id": "79a78b12",
   "metadata": {},
   "outputs": [],
   "source": [
    "landmarks"
   ]
  },
  {
   "cell_type": "code",
   "execution_count": null,
   "id": "fa074024",
   "metadata": {},
   "outputs": [],
   "source": [
    "with open ('coord.csv',mode = 'w',newline='') as f:\n",
    "    csv_writer = csv.writer(f,delimiter=',',quotechar = '\"',quoting = csv.QUOTE_MINIMAL)\n",
    "    csv_writer.writerow(landmarks) "
   ]
  },
  {
   "cell_type": "markdown",
   "id": "75c11f14",
   "metadata": {},
   "source": [
    "# take the inputs"
   ]
  },
  {
   "cell_type": "code",
   "execution_count": null,
   "id": "a9811828",
   "metadata": {},
   "outputs": [],
   "source": [
    "class_name = 'happy'"
   ]
  },
  {
   "cell_type": "code",
   "execution_count": null,
   "id": "045d4797",
   "metadata": {},
   "outputs": [],
   "source": [
    "cap = cv2.VideoCapture(0)\n",
    "\n",
    "# Initiate holistic model\n",
    "with mp_holistic.Holistic(min_detection_confidence=0.2, min_tracking_confidence=0.2) as holistic:\n",
    "\n",
    "    while cap.isOpened():\n",
    "        ret, frame = cap.read()\n",
    "\n",
    "        # Recolor Feed\n",
    "        image = cv2.cvtColor(frame, cv2.COLOR_BGR2RGB)\n",
    "        image.flags.writeable = False\n",
    "\n",
    "        # Make Detections\n",
    "        results = holistic.process(image)\n",
    "\n",
    "        # face_landmarks, pose_landmarks, left_hand_landmarks, right_hand_landmarks\n",
    "\n",
    "        # Recolor image back to BGR for rendering\n",
    "        image.flags.writeable = True\n",
    "        image = cv2.cvtColor(image, cv2.COLOR_RGB2BGR)\n",
    "\n",
    "        # ... (Drawing landmarks code)\n",
    "        # 1. Draw face landmarks\n",
    "        mp_drawing.draw_landmarks(image, results.face_landmarks, mp_holistic.FACEMESH_TESSELATION,\n",
    "                                   mp_drawing.DrawingSpec(color=(80, 110, 10), thickness=1, circle_radius=1),\n",
    "                                   mp_drawing.DrawingSpec(color=(80, 256, 121), thickness=1, circle_radius=1)\n",
    "                                   )\n",
    "\n",
    "        # 2. Right hand\n",
    "        mp_drawing.draw_landmarks(image, results.right_hand_landmarks, mp_holistic.HAND_CONNECTIONS,\n",
    "                                   mp_drawing.DrawingSpec(color=(80, 22, 10), thickness=2, circle_radius=4),\n",
    "                                   mp_drawing.DrawingSpec(color=(80, 44, 121), thickness=2, circle_radius=2)\n",
    "                                   )\n",
    "\n",
    "        # 3. Left Hand\n",
    "        mp_drawing.draw_landmarks(image, results.left_hand_landmarks, mp_holistic.HAND_CONNECTIONS,\n",
    "                                   mp_drawing.DrawingSpec(color=(121, 22, 76), thickness=2, circle_radius=4),\n",
    "                                   mp_drawing.DrawingSpec(color=(121, 44, 250), thickness=2, circle_radius=2)\n",
    "                                   )\n",
    "\n",
    "        # 4. Pose Detections\n",
    "        mp_drawing.draw_landmarks(image, results.pose_landmarks, mp_holistic.POSE_CONNECTIONS,\n",
    "                                   mp_drawing.DrawingSpec(color=(245, 117, 66), thickness=2, circle_radius=4),\n",
    "                                   mp_drawing.DrawingSpec(color=(245, 66, 230), thickness=2, circle_radius=2)\n",
    "                                   )\n",
    "\n",
    "        # Export coordinates\n",
    "        try:\n",
    "            # Extract landmarks for the left hand\n",
    "            left_hand_row = []\n",
    "            left_hand_landmarks = results.left_hand_landmarks\n",
    "\n",
    "            if left_hand_landmarks:\n",
    "                left_hand_landmark_list = [\n",
    "                    (landmark.x, landmark.y, landmark.z, landmark.visibility)\n",
    "                    for landmark in left_hand_landmarks.landmark\n",
    "                ]\n",
    "                left_hand_row = list(np.array(left_hand_landmark_list).flatten())\n",
    "            else:\n",
    "                # If left hand landmarks are not detected, create an empty row\n",
    "                left_hand_row = [0.0] * (4 * left_hand_landmarks_count)  # Assuming 4 values per landmark\n",
    "\n",
    "            # Extract landmarks for the right hand\n",
    "            right_hand_row = []\n",
    "            right_hand_landmarks = results.right_hand_landmarks\n",
    "\n",
    "            if right_hand_landmarks:\n",
    "                right_hand_landmark_list = [\n",
    "                    (landmark.x, landmark.y, landmark.z, landmark.visibility)\n",
    "                    for landmark in right_hand_landmarks.landmark\n",
    "                ]\n",
    "                right_hand_row = list(np.array(right_hand_landmark_list).flatten())\n",
    "            else:\n",
    "                # If right hand landmarks are not detected, create an empty row\n",
    "                right_hand_row = [0.0] * (4 * right_hand_landmarks_count)  # Assuming 4 values per landmark\n",
    "\n",
    "            # Extract face and pose landmarks\n",
    "            pose = results.pose_landmarks.landmark\n",
    "            pose_row = list(np.array([[landmark.x, landmark.y, landmark.z, landmark.visibility] for landmark in pose]).flatten())\n",
    "\n",
    "            face = results.face_landmarks.landmark\n",
    "            face_row = list(np.array([[landmark.x, landmark.y, landmark.z, landmark.visibility] for landmark in face]).flatten())\n",
    "\n",
    "            # Concatenate row\n",
    "            row = pose_row + face_row + left_hand_row + right_hand_row\n",
    "\n",
    "            # Append name\n",
    "            row.insert(0, class_name)\n",
    "\n",
    "            # Extract to CSV\n",
    "            with open('coord.csv', mode='a', newline='') as f:\n",
    "                csv_writer = csv.writer(f, delimiter=',', quotechar='\"', quoting=csv.QUOTE_MINIMAL)\n",
    "                csv_writer.writerow(row)\n",
    "\n",
    "        except Exception as e:\n",
    "            print(f\"Error: {e}\")\n",
    "\n",
    "        cv2.imshow('Raw Webcam Feed', image)\n",
    "\n",
    "        if cv2.waitKey(10) & 0xFF == ord('q'):\n",
    "            break\n",
    "\n",
    "cap.release()\n",
    "cv2.destroyAllWindows()\n"
   ]
  },
  {
   "cell_type": "markdown",
   "id": "f532ba24",
   "metadata": {},
   "source": [
    "# Train the data"
   ]
  },
  {
   "cell_type": "code",
   "execution_count": null,
   "id": "47c1ae88",
   "metadata": {},
   "outputs": [],
   "source": [
    "df= pd.read_csv('coord.csv')\n",
    "df"
   ]
  },
  {
   "cell_type": "code",
   "execution_count": null,
   "id": "1896e11f",
   "metadata": {},
   "outputs": [],
   "source": [
    "x = df.drop('class',axis=1)\n",
    "y = df['class']"
   ]
  },
  {
   "cell_type": "code",
   "execution_count": null,
   "id": "9d156138",
   "metadata": {},
   "outputs": [],
   "source": [
    "x_train, x_test, y_train, y_test = train_test_split(x, y, test_size=0.3, random_state=1234)"
   ]
  },
  {
   "cell_type": "code",
   "execution_count": null,
   "id": "293e8233",
   "metadata": {},
   "outputs": [],
   "source": [
    "pipelines = {\n",
    "    'lr':make_pipeline(StandardScaler(), LogisticRegression()),\n",
    "    'rc':make_pipeline(StandardScaler(), RidgeClassifier()),\n",
    "    'rf':make_pipeline(StandardScaler(), RandomForestClassifier()),\n",
    "    'gb':make_pipeline(StandardScaler(), GradientBoostingClassifier()),\n",
    "}"
   ]
  },
  {
   "cell_type": "code",
   "execution_count": null,
   "id": "99f2ee49",
   "metadata": {},
   "outputs": [],
   "source": [
    "fit_models = {}\n",
    "for algo, pipeline in pipelines.items():\n",
    "    model = pipeline.fit(x_train,y_train)\n",
    "    fit_models[algo] = model"
   ]
  },
  {
   "cell_type": "markdown",
   "id": "baf540d1",
   "metadata": {},
   "source": [
    "# finding best algo for our model"
   ]
  },
  {
   "cell_type": "code",
   "execution_count": null,
   "id": "4ed011d5",
   "metadata": {},
   "outputs": [],
   "source": [
    "from sklearn.metrics import accuracy_score \n",
    "for algo, model in fit_models.items():\n",
    "    yhat = model.predict(x_test)\n",
    "    print(algo, accuracy_score(y_test, yhat))"
   ]
  },
  {
   "cell_type": "code",
   "execution_count": null,
   "id": "d9e9964f",
   "metadata": {},
   "outputs": [],
   "source": [
    "fit_models['rf'].predict(x_test)"
   ]
  },
  {
   "cell_type": "markdown",
   "id": "d9b5fece",
   "metadata": {},
   "source": [
    "# loading the model with help of pickle"
   ]
  },
  {
   "cell_type": "code",
   "execution_count": null,
   "id": "3ef9fbbe",
   "metadata": {},
   "outputs": [],
   "source": [
    "import pickle "
   ]
  },
  {
   "cell_type": "code",
   "execution_count": null,
   "id": "0c975260",
   "metadata": {},
   "outputs": [],
   "source": [
    "with open('your_trained_model.pkl','wb') as f:\n",
    "    pickle.dump(fit_models['rf'],f)"
   ]
  },
  {
   "cell_type": "code",
   "execution_count": null,
   "id": "28a9cfe9",
   "metadata": {},
   "outputs": [],
   "source": []
  }
 ],
 "metadata": {
  "kernelspec": {
   "display_name": "Python 3 (ipykernel)",
   "language": "python",
   "name": "python3"
  },
  "language_info": {
   "codemirror_mode": {
    "name": "ipython",
    "version": 3
   },
   "file_extension": ".py",
   "mimetype": "text/x-python",
   "name": "python",
   "nbconvert_exporter": "python",
   "pygments_lexer": "ipython3",
   "version": "3.11.5"
  }
 },
 "nbformat": 4,
 "nbformat_minor": 5
}
